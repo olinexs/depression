{
 "cells": [
  {
   "cell_type": "code",
   "execution_count": null,
   "metadata": {},
   "outputs": [],
   "source": [
    "audio_directory = \"./preprocessing/audio/processed_audio/\" # directory containing all the audio csv files\n",
    "label_filepath = \"./preprocessing/label.csv\" # file containing all the participants' label"
   ]
  },
  {
   "cell_type": "code",
   "execution_count": 6,
   "metadata": {},
   "outputs": [],
   "source": [
    "import pandas as pd \n",
    "import os"
   ]
  },
  {
   "cell_type": "code",
   "execution_count": null,
   "metadata": {},
   "outputs": [
    {
     "name": "stdout",
     "output_type": "stream",
     "text": [
      "Merged audio features saved to C:/Users/kakol/freelance/6/audio_features.csv\n",
      "Audio feature merging complete!\n"
     ]
    }
   ],
   "source": [
    "import os\n",
    "import pandas as pd\n",
    "\n",
    "# Function to merge audio features with labels\n",
    "def merge_audio_with_labels(audio_folder, label_file, output_file):\n",
    "    \n",
    "    labels_df = pd.read_csv(label_file)\n",
    "    \n",
    "    combined_data = []\n",
    "    \n",
    "    for file_name in os.listdir(audio_folder):\n",
    "        if file_name.endswith(\".csv\"):\n",
    "            participant_id = file_name.split('_')[1]\n",
    "            file_path = os.path.join(audio_folder, file_name)\n",
    "            \n",
    "            audio_df = pd.read_csv(file_path)\n",
    "            audio_features = audio_df.mean().add_prefix(\"audio_\")\n",
    "            \n",
    "            label_row = labels_df[labels_df['Participant_ID'] == int(participant_id)]\n",
    "            if not label_row.empty:\n",
    "                label = label_row['label'].values[0]\n",
    "                audio_features['Participant_ID'] = participant_id\n",
    "                audio_features['Label'] = label\n",
    "                combined_data.append(audio_features)\n",
    "    \n",
    "    combined_df = pd.DataFrame(combined_data)\n",
    "    combined_df.to_csv(output_file, index=False)\n",
    "    print(f\"Merged audio features saved to {output_file}\")\n",
    "\n",
    "\n",
    "# Example usage\n",
    "if __name__ == \"__main__\":\n",
    "    audio_folder = \"./preprocessing/audio/processed_audio/\"  # Folder with individual audio CSVs\n",
    "    label_file = \"./preprocessing/label.csv\"          # Label file with Participant_ID and Label\n",
    "    output_file = \"./preprocessing/audio_features.csv\"\n",
    "    \n",
    "    merge_audio_with_labels(audio_folder, label_file, output_file)\n",
    "    print(\"Audio feature merging complete!\")"
   ]
  }
 ],
 "metadata": {
  "kernelspec": {
   "display_name": "my_env",
   "language": "python",
   "name": "python3"
  },
  "language_info": {
   "codemirror_mode": {
    "name": "ipython",
    "version": 3
   },
   "file_extension": ".py",
   "mimetype": "text/x-python",
   "name": "python",
   "nbconvert_exporter": "python",
   "pygments_lexer": "ipython3",
   "version": "3.11.9"
  }
 },
 "nbformat": 4,
 "nbformat_minor": 2
}
