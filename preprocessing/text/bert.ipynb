{
 "cells": [
  {
   "cell_type": "code",
   "execution_count": null,
   "metadata": {},
   "outputs": [],
   "source": [
    "transcript_directory = \"./preprocessing/text/Transcript\" # directory containing all the transcript csv files\n",
    "label_filepath = \"./preprocessing/label.csv\" # file containing all the participants' label"
   ]
  },
  {
   "cell_type": "code",
   "execution_count": 26,
   "metadata": {},
   "outputs": [],
   "source": [
    "import pandas as pd \n",
    "import os"
   ]
  },
  {
   "cell_type": "code",
   "execution_count": 27,
   "metadata": {},
   "outputs": [
    {
     "data": {
      "text/html": [
       "<div>\n",
       "<style scoped>\n",
       "    .dataframe tbody tr th:only-of-type {\n",
       "        vertical-align: middle;\n",
       "    }\n",
       "\n",
       "    .dataframe tbody tr th {\n",
       "        vertical-align: top;\n",
       "    }\n",
       "\n",
       "    .dataframe thead th {\n",
       "        text-align: right;\n",
       "    }\n",
       "</style>\n",
       "<table border=\"1\" class=\"dataframe\">\n",
       "  <thead>\n",
       "    <tr style=\"text-align: right;\">\n",
       "      <th></th>\n",
       "      <th>start_time</th>\n",
       "      <th>stop_time</th>\n",
       "      <th>speaker</th>\n",
       "      <th>value</th>\n",
       "    </tr>\n",
       "  </thead>\n",
       "  <tbody>\n",
       "    <tr>\n",
       "      <th>0</th>\n",
       "      <td>29.428</td>\n",
       "      <td>35.888</td>\n",
       "      <td>Ellie</td>\n",
       "      <td>hi i'm ellie thanks for coming in today i was ...</td>\n",
       "    </tr>\n",
       "    <tr>\n",
       "      <th>1</th>\n",
       "      <td>32.738</td>\n",
       "      <td>33.068</td>\n",
       "      <td>Participant</td>\n",
       "      <td>thank you</td>\n",
       "    </tr>\n",
       "    <tr>\n",
       "      <th>2</th>\n",
       "      <td>36.598</td>\n",
       "      <td>40.948</td>\n",
       "      <td>Ellie</td>\n",
       "      <td>think of me as a friend i don't judge i can't ...</td>\n",
       "    </tr>\n",
       "    <tr>\n",
       "      <th>3</th>\n",
       "      <td>42.088</td>\n",
       "      <td>42.518</td>\n",
       "      <td>Participant</td>\n",
       "      <td>mmm k</td>\n",
       "    </tr>\n",
       "    <tr>\n",
       "      <th>4</th>\n",
       "      <td>42.358</td>\n",
       "      <td>51.738</td>\n",
       "      <td>Ellie</td>\n",
       "      <td>i'm here to learn about people and would love ...</td>\n",
       "    </tr>\n",
       "  </tbody>\n",
       "</table>\n",
       "</div>"
      ],
      "text/plain": [
       "   start_time  stop_time      speaker  \\\n",
       "0      29.428     35.888        Ellie   \n",
       "1      32.738     33.068  Participant   \n",
       "2      36.598     40.948        Ellie   \n",
       "3      42.088     42.518  Participant   \n",
       "4      42.358     51.738        Ellie   \n",
       "\n",
       "                                               value  \n",
       "0  hi i'm ellie thanks for coming in today i was ...  \n",
       "1                                          thank you  \n",
       "2  think of me as a friend i don't judge i can't ...  \n",
       "3                                              mmm k  \n",
       "4  i'm here to learn about people and would love ...  "
      ]
     },
     "execution_count": 27,
     "metadata": {},
     "output_type": "execute_result"
    }
   ],
   "source": [
    "eg_transcript_filepath = transcript_directory + \"/301_TRANSCRIPT.csv\" #insert file path to transcript here \n",
    "eg_transcript_filename = os.path.basename(eg_transcript_filepath)\n",
    "\n",
    "df_transcript = pd.read_csv(eg_transcript_filepath, sep = '\\t')\n",
    "df_transcript.head()"
   ]
  },
  {
   "cell_type": "code",
   "execution_count": 28,
   "metadata": {},
   "outputs": [
    {
     "data": {
      "text/html": [
       "<div>\n",
       "<style scoped>\n",
       "    .dataframe tbody tr th:only-of-type {\n",
       "        vertical-align: middle;\n",
       "    }\n",
       "\n",
       "    .dataframe tbody tr th {\n",
       "        vertical-align: top;\n",
       "    }\n",
       "\n",
       "    .dataframe thead th {\n",
       "        text-align: right;\n",
       "    }\n",
       "</style>\n",
       "<table border=\"1\" class=\"dataframe\">\n",
       "  <thead>\n",
       "    <tr style=\"text-align: right;\">\n",
       "      <th></th>\n",
       "      <th>Participant_ID</th>\n",
       "      <th>label</th>\n",
       "    </tr>\n",
       "  </thead>\n",
       "  <tbody>\n",
       "    <tr>\n",
       "      <th>0</th>\n",
       "      <td>301</td>\n",
       "      <td>0</td>\n",
       "    </tr>\n",
       "    <tr>\n",
       "      <th>1</th>\n",
       "      <td>302</td>\n",
       "      <td>0</td>\n",
       "    </tr>\n",
       "    <tr>\n",
       "      <th>2</th>\n",
       "      <td>303</td>\n",
       "      <td>0</td>\n",
       "    </tr>\n",
       "    <tr>\n",
       "      <th>3</th>\n",
       "      <td>304</td>\n",
       "      <td>0</td>\n",
       "    </tr>\n",
       "    <tr>\n",
       "      <th>4</th>\n",
       "      <td>305</td>\n",
       "      <td>0</td>\n",
       "    </tr>\n",
       "  </tbody>\n",
       "</table>\n",
       "</div>"
      ],
      "text/plain": [
       "   Participant_ID  label\n",
       "0             301      0\n",
       "1             302      0\n",
       "2             303      0\n",
       "3             304      0\n",
       "4             305      0"
      ]
     },
     "execution_count": 28,
     "metadata": {},
     "output_type": "execute_result"
    }
   ],
   "source": [
    "df_labels = pd.read_csv(label_filepath)\n",
    "df_labels.head()"
   ]
  },
  {
   "cell_type": "code",
   "execution_count": 29,
   "metadata": {},
   "outputs": [],
   "source": [
    "def get_transcript(filepath):\n",
    "    filename = os.path.basename(filepath)\n",
    "    participant_no = int(filename[0:3])\n",
    "    \n",
    "    df_transcript = pd.read_csv(filepath, sep = '\\t')  \n",
    "    \n",
    "    df_dropped_columns = df_transcript.drop(['start_time', 'stop_time'], axis = 1) # drop first 2 columns\n",
    "    df_dropped_ellie = df_dropped_columns.set_index('speaker').drop(index = ['Ellie']) # drop anything Ellie says, she's not important\n",
    "    df_cleaned = df_dropped_ellie.reset_index() \n",
    "    \n",
    "    transcript_concat = '' \n",
    "\n",
    "    for index, row in df_cleaned.iterrows():\n",
    "        if (index == 0):\n",
    "            transcript_concat += str(row['value'])\n",
    "        else:\n",
    "            transcript_concat += ' ' + str(row['value'])\n",
    "            \n",
    "    return participant_no, transcript_concat"
   ]
  },
  {
   "cell_type": "code",
   "execution_count": 30,
   "metadata": {},
   "outputs": [
    {
     "data": {
      "text/plain": [
       "(301,\n",
       " \"thank you mmm k i'm doing good thank you i'm from los angeles oh great i live in west los angeles the west side it's alright i xxx no i live alone so i love it i'm from here so i grew up here it's natural the weather um well the weather it's always good it's never it's never bad uh um there's always something to do it's rarely a dull moment the traffic the traffic is horrible well probably traffic is horrible in almost any major city but i hate the traffic not really i mean i have enough things going on here so if i travel it's usually somewhere that's within driving distance i studied uh business i did no i've i've been done for a few years so i haven't gone to school for a while one of these days i'll go back to graduate school but my dream job would be to just work for myself and making lots of money um i don't know i don't really have a dream job just something that i can i can work under my own terms and get paid decently and and be in a creative creative environment um i don't know i think it's just a matter of finding the right situation so right now eh it's been people are a little conservative about what they want so and how they want it so it's a little tougher than it seems <se> it should be but i don't know i think when the situation's right i don't think it's too difficult yep i work as an assistant <as> administrative assistant through a temp agency so it's just basically i get sent out to do uh to do desk jobs  um yes and no i mean i feel like i feel like i could do more but you know it works so  you know yeah i'm pretty close i mean they're around so um god really mad stupid people just basically doing just doing anything to annoy me um that's basically <ba> that's the big thing just just irritating stupid people <laughter> who just do things just to provoke provoke me for no reason at all um what's a good example just random people who who think it's funny to just sit there and get a rise out of me just it doesn't have to be one any specific situation it's just people who just think it's funny to i think they're just generally sadistic and they just think it's it's funny to to just prod you like it's like poking a stick at an angry dog knowing that they know how to they just wanna push your buttons for no reason so uh god i don't remember i with those situations i usually try not to remember <laughter> when when it happens i just i just let it go and just like the past is the past i just tend not to look back what do you mean okay god what do i do to relax i like to run i like to go to the gym listen to music i have a lot of musician friends so i just so i'm usually around musicians so anything of that sort i like i like everything from punk rock art to tattoos to just anything that's that's generally art and creative who's been a positive <pos> i think it's just friends in general who who seem to who seem to do well and i think they they're very inspiring and which is sometimes a a bit tough in in a town like los angeles where i think everybody's on the go trying to accomplish their own goals so they don't it's sometimes hard to find someone who's gonna be uplifting or try to be inspiring so i don't really have anybody in particular but people have kind of brought up things here and there you know just like hey instead of instead of doing this how about doing that or hey you're good at this why aren't you doing that or something like that just you know i'm always looking for new opportunities so they always point out things that maybe i might i could do differently instead of just being negative saying hey don't do that that's no that's why are you doing that it's a waste of time um i guess it depends on who you talk to i'm i'm okay at it i could probably work at that um i don't know i mean i can i i think i can do better at it well back to the point about people provoking me so i mean i try not to blow steam and let them get under my skin so i just usually try not to let it get to me but i don't know i guess with temper i guess it depends on how i handle my stress lately i've been better at it just because i think my situation's been a little bit better no no no um nothing major i mean maybe when i was younger i could've traveled more or i could've worked towards something that paid better job-wise but i mean those are all things that i think at any point in life you always think like well i coulda shoulda would've done but you know but then again i think that's natural for anybody i mean i could i could've become a banker or i could've become a lawyer or a doctor and made about ten times the money that i make now but but then again i don't like the law and i don't like medicine so so i'm it wasn't meant to be so yeah so um i think i think my in my life i knew that i there's a lot of things i have <ha> there's more dislikes <laughter> than likes so i kinda narrowed it down to what am i good at and what am i not good at and what am i gonna work well or who who am i gonna work well with and who will i not work well with so i kind of i kinda sorted out and then the list kind of mmm kind of answered itself so no it i don't think it was hard but it was just but i think it was a real reality check and i think it it's kind of a good thing 'cause sometimes trying to conform to doing things that doesn't really fit you doesn't make sense it's like trying to shove a a round peg into a square a square hole and it's like it just no matter how you try to shove it in it's not gonna go in so sometimes it's just might as well go down a path that seems to work better for you memorable experiences um hmm i think it's just i don't really have like any one in particular i think i think every day is almost like a memorable experience whether it's positive or negative i think it's just everything from getting it just just the fact that i got a job and i can i can take care of myself is already almost like a memorable experience maybe for the average person it it sounds stupid but you know i think just the fact that i'm able i'm able to get this far in life without like completely self-destructing is already an accomplishment so i feel like i've gotten somewhere maybe not to not maybe not to the point to the average person they might think like well why aren't you a millionaire but you know what not everybody can be a millionaire yeah um when was the last time i really felt happy um i don't know i'm not really someone who's like i don't have any real high highs or low lows i mean i haven't hit any lows so i mean i i don't know i'm usually pretty i feel like i'm a level person and i'm pretty happy <ha> every day i feel like if i accomplish one thing then i'm pretty happy so i guess to answer the question probably mmm probably yesterday i just feel like if i if i'm able to accomplish something then then hey i'm happy i don't know i don't really have a best friend but i mean i well to answer the question generally friends i think they would say that i'm very <ver> pretty outgoing i'm pretty determined i'm trying you know i try to you know i try to interact as much as possible i'm always out networking as much as possible so i don't know i guess that's basically what i think they would describe me as okay no problem alright bye\")"
      ]
     },
     "execution_count": 30,
     "metadata": {},
     "output_type": "execute_result"
    }
   ],
   "source": [
    "# Verify that we can get the right participant number and concatenated transcript\n",
    "\n",
    "get_transcript(eg_transcript_filepath)"
   ]
  },
  {
   "cell_type": "code",
   "execution_count": null,
   "metadata": {},
   "outputs": [],
   "source": [
    "def combine_transcripts(directory, label_filepath):\n",
    "    column_names_final = [\"Participant_ID\", \"Transcript\", \"label\"]\n",
    "    df_final = pd.DataFrame(columns=column_names_final)\n",
    "    \n",
    "    csv_files = [pos_csv for pos_csv in os.listdir(directory) if pos_csv.endswith('.csv')]\n",
    "    \n",
    "    # Load the label file once to avoid reading it repeatedly\n",
    "    df_labels = pd.read_csv(label_filepath, index_col=\"Participant_ID\")\n",
    "    df_labels.index = df_labels.index.astype(str).str.strip()  # Clean up index\n",
    "\n",
    "    # Check if the 'label' column exists\n",
    "    if \"label\" not in df_labels.columns:\n",
    "        print(\"Error: 'label' column not found in the label file.\")\n",
    "        return df_final\n",
    "    \n",
    "    rows = []  \n",
    "    \n",
    "    for filename in csv_files:\n",
    "        filepath = directory + '/' + filename\n",
    "        \n",
    "        # Extract participant ID and transcript\n",
    "        participant_no, transcript_concat = get_transcript(filepath)\n",
    "        participant_no = str(participant_no).strip()  \n",
    "        \n",
    "        # Check if participant ID is in labels\n",
    "        if participant_no in df_labels.index:\n",
    "            label = df_labels.loc[participant_no][\"label\"]\n",
    "\n",
    "            new_row = {\"Participant_ID\": participant_no, \"Transcript\": transcript_concat, \"label\": label}\n",
    "            rows.append(new_row)  \n",
    "        else:\n",
    "            print(f\"Warning: Participant {participant_no} not found in label file.\")\n",
    "    \n",
    "    # Create the DataFrame from the list of rows\n",
    "    if rows:\n",
    "        df_final = pd.DataFrame(rows)\n",
    "    \n",
    "    # Sort the DataFrame by Participant ID\n",
    "    df_final = df_final.sort_values(by=['Participant_ID'], ascending=True).reset_index(drop=True)\n",
    "    \n",
    "    return df_final\n"
   ]
  },
  {
   "cell_type": "code",
   "execution_count": 32,
   "metadata": {},
   "outputs": [],
   "source": [
    "df = combine_transcripts(transcript_directory, label_filepath).sort_values(by=['Participant_ID'], ascending=True)\n"
   ]
  },
  {
   "cell_type": "code",
   "execution_count": null,
   "metadata": {},
   "outputs": [],
   "source": [
    "df.to_csv(\"./preprocessing/raw_compiled_transcripts.csv\", index=False)"
   ]
  },
  {
   "cell_type": "code",
   "execution_count": 34,
   "metadata": {},
   "outputs": [],
   "source": [
    "df = df.reset_index(drop=True)"
   ]
  },
  {
   "cell_type": "code",
   "execution_count": 35,
   "metadata": {},
   "outputs": [
    {
     "data": {
      "text/html": [
       "<div>\n",
       "<style scoped>\n",
       "    .dataframe tbody tr th:only-of-type {\n",
       "        vertical-align: middle;\n",
       "    }\n",
       "\n",
       "    .dataframe tbody tr th {\n",
       "        vertical-align: top;\n",
       "    }\n",
       "\n",
       "    .dataframe thead th {\n",
       "        text-align: right;\n",
       "    }\n",
       "</style>\n",
       "<table border=\"1\" class=\"dataframe\">\n",
       "  <thead>\n",
       "    <tr style=\"text-align: right;\">\n",
       "      <th></th>\n",
       "      <th>Participant_ID</th>\n",
       "      <th>Transcript</th>\n",
       "      <th>label</th>\n",
       "    </tr>\n",
       "  </thead>\n",
       "  <tbody>\n",
       "    <tr>\n",
       "      <th>0</th>\n",
       "      <td>301</td>\n",
       "      <td>thank you mmm k i'm doing good thank you i'm f...</td>\n",
       "      <td>0</td>\n",
       "    </tr>\n",
       "    <tr>\n",
       "      <th>1</th>\n",
       "      <td>302</td>\n",
       "      <td>i'm fine how about yourself  i'm from los ange...</td>\n",
       "      <td>0</td>\n",
       "    </tr>\n",
       "    <tr>\n",
       "      <th>2</th>\n",
       "      <td>303</td>\n",
       "      <td>okay how 'bout yourself here in california yea...</td>\n",
       "      <td>0</td>\n",
       "    </tr>\n",
       "    <tr>\n",
       "      <th>3</th>\n",
       "      <td>304</td>\n",
       "      <td>i'm doing good um from los angeles california ...</td>\n",
       "      <td>0</td>\n",
       "    </tr>\n",
       "    <tr>\n",
       "      <th>4</th>\n",
       "      <td>305</td>\n",
       "      <td>i'm doing alright uh originally i'm from calif...</td>\n",
       "      <td>0</td>\n",
       "    </tr>\n",
       "  </tbody>\n",
       "</table>\n",
       "</div>"
      ],
      "text/plain": [
       "  Participant_ID                                         Transcript  label\n",
       "0            301  thank you mmm k i'm doing good thank you i'm f...      0\n",
       "1            302  i'm fine how about yourself  i'm from los ange...      0\n",
       "2            303  okay how 'bout yourself here in california yea...      0\n",
       "3            304  i'm doing good um from los angeles california ...      0\n",
       "4            305  i'm doing alright uh originally i'm from calif...      0"
      ]
     },
     "execution_count": 35,
     "metadata": {},
     "output_type": "execute_result"
    }
   ],
   "source": [
    "df.head()"
   ]
  },
  {
   "cell_type": "code",
   "execution_count": 36,
   "metadata": {},
   "outputs": [],
   "source": [
    "from nltk.corpus import stopwords\n",
    "\n",
    "stop_words = list(stopwords.words('english'))\n",
    "\n",
    "# depressed persons tend to use first-person pronouns more, and third-person pronouns less. these words might provide indication\n",
    "excluded_pronouns = ['i', 'me', 'my', 'myself', 'we', 'our', 'ours', 'ourselves', 'you', \"you're\", \"you've\", \"you'll\",\n",
    "                    \"you'd\", 'your', 'yours', 'yourself', 'yourselves', 'he', 'him', 'his', 'himself', 'she', \"she's\",\n",
    "                     'her', 'hers', 'herself', 'it', \"it's\", 'its', 'itself', 'they', 'them', 'their', 'theirs', 'themselves']\n",
    "\n",
    "for pronoun in excluded_pronouns:\n",
    "    stop_words.remove(pronoun)"
   ]
  },
  {
   "cell_type": "code",
   "execution_count": 37,
   "metadata": {},
   "outputs": [],
   "source": [
    "from nltk.tokenize import TweetTokenizer\n",
    "import contractions\n",
    "import re as re\n",
    "import string\n",
    "\n",
    "def filter_text(text):\n",
    "    \n",
    "    text = re.sub('<[^<]+?>', '', text) # remove anything enclosed by tags e.g. <>\n",
    "    text = re.sub('\\[(.*?)\\]', '', text) # remove anything enclosed by closed brackets i.e. []\n",
    "    text = contractions.fix(text) # expands contractions e.g.'he's happy' -> 'he is happy'\n",
    "    \n",
    "    text = text.lower() # contractions will capitalize 'i'\n",
    "    text = text.translate(str.maketrans(\"\", \"\", string.punctuation)) # remove remaining punctuations e.g. apostrophe\n",
    "    \n",
    "    tokens = TweetTokenizer().tokenize(text) # use TweetTokenizer as transcripts contain informal texts\n",
    "    \n",
    "    filtered_sentence = [w for w in tokens if w not in stop_words]\n",
    "    text = ' '.join(filtered_sentence)\n",
    "    \n",
    "    return text"
   ]
  },
  {
   "cell_type": "code",
   "execution_count": null,
   "metadata": {},
   "outputs": [],
   "source": [
    "import pandas as pd\n",
    "\n",
    "df = pd.read_csv('./preprocessing/raw_compiled_transcripts.csv')"
   ]
  },
  {
   "cell_type": "code",
   "execution_count": 39,
   "metadata": {},
   "outputs": [
    {
     "name": "stdout",
     "output_type": "stream",
     "text": [
      "The original text is:\n",
      "thank you mmm k i'm doing good thank you i'm from los angeles oh great i live in west los angeles the west side it's alright i xxx no i live alone so i love it i'm from here so i grew up here it's natural the weather um well the weather it's always good it's never it's never bad uh um there's always something to do it's rarely a dull moment the traffic the traffic is horrible well probably traffic is horrible in almost any major city but i hate the traffic not really i mean i have enough things going on here so if i travel it's usually somewhere that's within driving distance i studied uh business i did no i've i've been done for a few years so i haven't gone to school for a while one of these days i'll go back to graduate school but my dream job would be to just work for myself and making lots of money um i don't know i don't really have a dream job just something that i can i can work under my own terms and get paid decently and and be in a creative creative environment um i don't know i think it's just a matter of finding the right situation so right now eh it's been people are a little conservative about what they want so and how they want it so it's a little tougher than it seems <se> it should be but i don't know i think when the situation's right i don't think it's too difficult yep i work as an assistant <as> administrative assistant through a temp agency so it's just basically i get sent out to do uh to do desk jobs  um yes and no i mean i feel like i feel like i could do more but you know it works so  you know yeah i'm pretty close i mean they're around so um god really mad stupid people just basically doing just doing anything to annoy me um that's basically <ba> that's the big thing just just irritating stupid people <laughter> who just do things just to provoke provoke me for no reason at all um what's a good example just random people who who think it's funny to just sit there and get a rise out of me just it doesn't have to be one any specific situation it's just people who just think it's funny to i think they're just generally sadistic and they just think it's it's funny to to just prod you like it's like poking a stick at an angry dog knowing that they know how to they just wanna push your buttons for no reason so uh god i don't remember i with those situations i usually try not to remember <laughter> when when it happens i just i just let it go and just like the past is the past i just tend not to look back what do you mean okay god what do i do to relax i like to run i like to go to the gym listen to music i have a lot of musician friends so i just so i'm usually around musicians so anything of that sort i like i like everything from punk rock art to tattoos to just anything that's that's generally art and creative who's been a positive <pos> i think it's just friends in general who who seem to who seem to do well and i think they they're very inspiring and which is sometimes a a bit tough in in a town like los angeles where i think everybody's on the go trying to accomplish their own goals so they don't it's sometimes hard to find someone who's gonna be uplifting or try to be inspiring so i don't really have anybody in particular but people have kind of brought up things here and there you know just like hey instead of instead of doing this how about doing that or hey you're good at this why aren't you doing that or something like that just you know i'm always looking for new opportunities so they always point out things that maybe i might i could do differently instead of just being negative saying hey don't do that that's no that's why are you doing that it's a waste of time um i guess it depends on who you talk to i'm i'm okay at it i could probably work at that um i don't know i mean i can i i think i can do better at it well back to the point about people provoking me so i mean i try not to blow steam and let them get under my skin so i just usually try not to let it get to me but i don't know i guess with temper i guess it depends on how i handle my stress lately i've been better at it just because i think my situation's been a little bit better no no no um nothing major i mean maybe when i was younger i could've traveled more or i could've worked towards something that paid better job-wise but i mean those are all things that i think at any point in life you always think like well i coulda shoulda would've done but you know but then again i think that's natural for anybody i mean i could i could've become a banker or i could've become a lawyer or a doctor and made about ten times the money that i make now but but then again i don't like the law and i don't like medicine so so i'm it wasn't meant to be so yeah so um i think i think my in my life i knew that i there's a lot of things i have <ha> there's more dislikes <laughter> than likes so i kinda narrowed it down to what am i good at and what am i not good at and what am i gonna work well or who who am i gonna work well with and who will i not work well with so i kind of i kinda sorted out and then the list kind of mmm kind of answered itself so no it i don't think it was hard but it was just but i think it was a real reality check and i think it it's kind of a good thing 'cause sometimes trying to conform to doing things that doesn't really fit you doesn't make sense it's like trying to shove a a round peg into a square a square hole and it's like it just no matter how you try to shove it in it's not gonna go in so sometimes it's just might as well go down a path that seems to work better for you memorable experiences um hmm i think it's just i don't really have like any one in particular i think i think every day is almost like a memorable experience whether it's positive or negative i think it's just everything from getting it just just the fact that i got a job and i can i can take care of myself is already almost like a memorable experience maybe for the average person it it sounds stupid but you know i think just the fact that i'm able i'm able to get this far in life without like completely self-destructing is already an accomplishment so i feel like i've gotten somewhere maybe not to not maybe not to the point to the average person they might think like well why aren't you a millionaire but you know what not everybody can be a millionaire yeah um when was the last time i really felt happy um i don't know i'm not really someone who's like i don't have any real high highs or low lows i mean i haven't hit any lows so i mean i i don't know i'm usually pretty i feel like i'm a level person and i'm pretty happy <ha> every day i feel like if i accomplish one thing then i'm pretty happy so i guess to answer the question probably mmm probably yesterday i just feel like if i if i'm able to accomplish something then then hey i'm happy i don't know i don't really have a best friend but i mean i well to answer the question generally friends i think they would say that i'm very <ver> pretty outgoing i'm pretty determined i'm trying you know i try to you know i try to interact as much as possible i'm always out networking as much as possible so i don't know i guess that's basically what i think they would describe me as okay no problem alright bye\n",
      "-------------------------------------------\n",
      "The filtered text is:\n",
      "thank you mmm k i good thank you i los angeles oh great i live west los angeles west side it alright i xxx i live alone i love it i i grew it natural weather um well weather it always good it never it never bad uh um always something it rarely dull moment traffic traffic horrible well probably traffic horrible almost major city i hate traffic really i mean i enough things going i travel it usually somewhere within driving distance i studied uh business i i i done years i gone school one days i go back graduate school my dream job would work myself making lots money um i know i really dream job something i i work my terms get paid decently creative creative environment um i know i think it matter finding right situation right eh it people little conservative they want they want it it little tougher it seems it i know i think situations right i think it difficult yep i work assistant administrative assistant temp agency it basically i get sent uh desk jobs um yes i mean i feel like i feel like i could you know it works you know yeah i pretty close i mean they around um god really mad stupid people basically anything annoy me um basically big thing irritating stupid people things provoke provoke me reason um good example random people think it funny sit get rise me it one specific situation it people think it funny i think they generally sadistic they think it it funny prod you like it like poking stick angry dog knowing they know they want push your buttons reason uh god i remember i situations i usually try remember it happens i i let it go like past past i tend look back you mean okay god i relax i like run i like go gym listen music i lot musician friends i i usually around musicians anything sort i like i like everything punk rock art tattoos anything generally art creative positive i think it friends general seem seem well i think they they inspiring sometimes bit tough town like los angeles i think everybodys go trying accomplish their goals they it sometimes hard find someone going uplifting try inspiring i really anybody particular people kind brought things you know like hey instead instead hey you good you something like you know i always looking new opportunities they always point things maybe i might i could differently instead negative saying hey you it waste time um i guess it depends you talk i i okay it i could probably work um i know i mean i i i think i better it well back point people provoking me i mean i try blow steam let them get my skin i usually try let it get me i know i guess temper i guess it depends i handle my stress lately i better it i think my situations little bit better um nothing major i mean maybe i younger i could traveled i could worked towards something paid better jobwise i mean things i think point life you always think like well i coulda shoulda would done you know i think natural anybody i mean i could i could become banker i could become lawyer doctor made ten times money i make i like law i like medicine i it meant yeah um i think i think my my life i knew i lot things i dislikes likes i kind narrowed it i good i good i going work well i going work well i work well i kind i kind sorted list kind mmm kind answered itself it i think it hard it i think it real reality check i think it it kind good thing sometimes trying conform things really fit you make sense it like trying shove round peg square square hole it like it matter you try shove it it going go sometimes it might well go path seems work better you memorable experiences um hmm i think it i really like one particular i think i think every day almost like memorable experience whether it positive negative i think it everything getting it fact i got job i i take care myself already almost like memorable experience maybe average person it it sounds stupid you know i think fact i able i able get far life without like completely selfdestructing already accomplishment i feel like i gotten somewhere maybe maybe point average person they might think like well you millionaire you know everybody millionaire yeah um last time i really felt happy um i know i really someone like i real high highs low lows i mean i hit lows i mean i i know i usually pretty i feel like i level person i pretty happy every day i feel like i accomplish one thing i pretty happy i guess answer question probably mmm probably yesterday i feel like i i able accomplish something hey i happy i know i really best friend i mean i well answer question generally friends i think they would say i pretty outgoing i pretty determined i trying you know i try you know i try interact much possible i always networking much possible i know i guess basically i think they would describe me okay problem alright bye\n"
     ]
    }
   ],
   "source": [
    "# Compare first entry\n",
    "\n",
    "original_text = df.Transcript[0]\n",
    "\n",
    "df.Transcript = df.Transcript.apply(filter_text)\n",
    "filtered_text = df.Transcript[0]\n",
    "\n",
    "print(f\"The original text is:\\n{original_text}\")\n",
    "print(\"-------------------------------------------\")\n",
    "print(f\"The filtered text is:\\n{filtered_text}\")"
   ]
  },
  {
   "cell_type": "code",
   "execution_count": null,
   "metadata": {},
   "outputs": [
    {
     "data": {
      "text/html": [
       "<div>\n",
       "<style scoped>\n",
       "    .dataframe tbody tr th:only-of-type {\n",
       "        vertical-align: middle;\n",
       "    }\n",
       "\n",
       "    .dataframe tbody tr th {\n",
       "        vertical-align: top;\n",
       "    }\n",
       "\n",
       "    .dataframe thead th {\n",
       "        text-align: right;\n",
       "    }\n",
       "</style>\n",
       "<table border=\"1\" class=\"dataframe\">\n",
       "  <thead>\n",
       "    <tr style=\"text-align: right;\">\n",
       "      <th></th>\n",
       "      <th>Participant_ID</th>\n",
       "      <th>Transcript</th>\n",
       "      <th>label</th>\n",
       "    </tr>\n",
       "  </thead>\n",
       "  <tbody>\n",
       "    <tr>\n",
       "      <th>0</th>\n",
       "      <td>301</td>\n",
       "      <td>thank you mmm k i good thank you i los angeles...</td>\n",
       "      <td>0</td>\n",
       "    </tr>\n",
       "    <tr>\n",
       "      <th>1</th>\n",
       "      <td>302</td>\n",
       "      <td>i fine yourself i los angeles california part ...</td>\n",
       "      <td>0</td>\n",
       "    </tr>\n",
       "    <tr>\n",
       "      <th>2</th>\n",
       "      <td>303</td>\n",
       "      <td>okay bout yourself california yeah oh well it ...</td>\n",
       "      <td>0</td>\n",
       "    </tr>\n",
       "    <tr>\n",
       "      <th>3</th>\n",
       "      <td>304</td>\n",
       "      <td>i good um los angeles california um cool weath...</td>\n",
       "      <td>0</td>\n",
       "    </tr>\n",
       "    <tr>\n",
       "      <th>4</th>\n",
       "      <td>305</td>\n",
       "      <td>i alright uh originally i california uh born g...</td>\n",
       "      <td>0</td>\n",
       "    </tr>\n",
       "  </tbody>\n",
       "</table>\n",
       "</div>"
      ],
      "text/plain": [
       "   Participant_ID                                         Transcript  label\n",
       "0             301  thank you mmm k i good thank you i los angeles...      0\n",
       "1             302  i fine yourself i los angeles california part ...      0\n",
       "2             303  okay bout yourself california yeah oh well it ...      0\n",
       "3             304  i good um los angeles california um cool weath...      0\n",
       "4             305  i alright uh originally i california uh born g...      0"
      ]
     },
     "execution_count": 40,
     "metadata": {},
     "output_type": "execute_result"
    }
   ],
   "source": [
    "df.to_csv(\"./preprocessing/clean_compiled_transcripts.csv\", index=False)\n",
    "df.head()"
   ]
  },
  {
   "cell_type": "code",
   "execution_count": 41,
   "metadata": {},
   "outputs": [
    {
     "data": {
      "text/plain": [
       "(45, 3)"
      ]
     },
     "execution_count": 41,
     "metadata": {},
     "output_type": "execute_result"
    }
   ],
   "source": [
    "df.shape"
   ]
  },
  {
   "cell_type": "markdown",
   "metadata": {},
   "source": [
    "BATAs"
   ]
  },
  {
   "cell_type": "code",
   "execution_count": 42,
   "metadata": {},
   "outputs": [
    {
     "data": {
      "text/plain": [
       "array([301, 302, 303, 304, 305, 306, 307, 308, 309, 310, 311, 312, 313,\n",
       "       314, 315, 316, 317, 318, 319, 320, 321, 322, 323, 326, 327, 328,\n",
       "       329, 330, 332, 344, 345, 346, 347, 348, 349, 350, 351, 352, 353,\n",
       "       354, 355, 356, 362, 367, 372], dtype=int64)"
      ]
     },
     "execution_count": 42,
     "metadata": {},
     "output_type": "execute_result"
    }
   ],
   "source": [
    "all_participants = df['Participant_ID'].values\n",
    "\n",
    "all_participants"
   ]
  },
  {
   "cell_type": "code",
   "execution_count": 98,
   "metadata": {},
   "outputs": [
    {
     "name": "stdout",
     "output_type": "stream",
     "text": [
      "Requirement already satisfied: matplotlib in c:\\users\\kakol\\miniconda3\\envs\\my_env\\lib\\site-packages (3.10.1)\n",
      "Requirement already satisfied: contourpy>=1.0.1 in c:\\users\\kakol\\miniconda3\\envs\\my_env\\lib\\site-packages (from matplotlib) (1.2.1)\n",
      "Requirement already satisfied: cycler>=0.10 in c:\\users\\kakol\\miniconda3\\envs\\my_env\\lib\\site-packages (from matplotlib) (0.12.1)\n",
      "Requirement already satisfied: fonttools>=4.22.0 in c:\\users\\kakol\\miniconda3\\envs\\my_env\\lib\\site-packages (from matplotlib) (4.53.0)\n",
      "Requirement already satisfied: kiwisolver>=1.3.1 in c:\\users\\kakol\\miniconda3\\envs\\my_env\\lib\\site-packages (from matplotlib) (1.4.5)\n",
      "Requirement already satisfied: numpy>=1.23 in c:\\users\\kakol\\miniconda3\\envs\\my_env\\lib\\site-packages (from matplotlib) (1.24.4)\n",
      "Requirement already satisfied: packaging>=20.0 in c:\\users\\kakol\\appdata\\roaming\\python\\python311\\site-packages (from matplotlib) (23.0)\n",
      "Requirement already satisfied: pillow>=8 in c:\\users\\kakol\\miniconda3\\envs\\my_env\\lib\\site-packages (from matplotlib) (10.4.0)\n",
      "Requirement already satisfied: pyparsing>=2.3.1 in c:\\users\\kakol\\miniconda3\\envs\\my_env\\lib\\site-packages (from matplotlib) (3.1.2)\n",
      "Requirement already satisfied: python-dateutil>=2.7 in c:\\users\\kakol\\appdata\\roaming\\python\\python311\\site-packages (from matplotlib) (2.8.2)\n",
      "Requirement already satisfied: six>=1.5 in c:\\users\\kakol\\appdata\\roaming\\python\\python311\\site-packages (from python-dateutil>=2.7->matplotlib) (1.16.0)\n",
      "Note: you may need to restart the kernel to use updated packages.\n"
     ]
    },
    {
     "name": "stderr",
     "output_type": "stream",
     "text": [
      "WARNING: Ignoring invalid distribution ~atplotlib (c:\\Users\\kakol\\miniconda3\\envs\\my_env\\Lib\\site-packages)\n",
      "WARNING: Ignoring invalid distribution ~atplotlib (c:\\Users\\kakol\\miniconda3\\envs\\my_env\\Lib\\site-packages)\n",
      "WARNING: Ignoring invalid distribution ~atplotlib (c:\\Users\\kakol\\miniconda3\\envs\\my_env\\Lib\\site-packages)\n",
      "\n",
      "[notice] A new release of pip is available: 24.2 -> 25.0.1\n",
      "[notice] To update, run: python.exe -m pip install --upgrade pip\n"
     ]
    }
   ],
   "source": [
    "pip install matplotlib"
   ]
  },
  {
   "cell_type": "code",
   "execution_count": 43,
   "metadata": {},
   "outputs": [],
   "source": [
    "import matplotlib.pyplot as plt"
   ]
  },
  {
   "cell_type": "code",
   "execution_count": 44,
   "metadata": {},
   "outputs": [
    {
     "data": {
      "image/png": "[encoded data removed]",
      "text/plain": [
       "<Figure size 640x480 with 1 Axes>"
      ]
     },
     "metadata": {},
     "output_type": "display_data"
    }
   ],
   "source": [
    "df_test = df[df.Participant_ID.isin(all_participants)]\n",
    "\n",
    "df_test['label'].value_counts().plot(kind='bar', rot=0)\n",
    "plt.ylabel(\"Frequency\")\n",
    "plt.xlabel(\"Presence of depression\")\n",
    "plt.title(\"Bar plot of raw test data\")\n",
    "plt.show()"
   ]
  },
  {
   "cell_type": "code",
   "execution_count": 45,
   "metadata": {},
   "outputs": [],
   "source": [
    "import torch\n",
    "from transformers import BertTokenizer, BertModel"
   ]
  },
  {
   "cell_type": "code",
   "execution_count": null,
   "metadata": {},
   "outputs": [],
   "source": [
    "tokenizer = BertTokenizer.from_pretrained(\"bert-base-uncased\")\n",
    "model = BertModel.from_pretrained(\"bert-base-uncased\")"
   ]
  },
  {
   "cell_type": "code",
   "execution_count": null,
   "metadata": {},
   "outputs": [],
   "source": [
    "def get_bert_embedding(text):\n",
    "    inputs = tokenizer(text, return_tensors=\"pt\", truncation=True, padding=True, max_length=512)\n",
    "    \n",
    "    with torch.no_grad():\n",
    "        outputs = model(**inputs)\n",
    "    \n",
    "    embedding = outputs.last_hidden_state[:, 0, :].detach().cpu().numpy().flatten()\n",
    "    \n",
    "    if embedding.shape[0] != 768:\n",
    "        print(f\"Warning: Unexpected embedding shape {embedding.shape} for text: {text[:50]}\")\n",
    "    \n",
    "    return embedding"
   ]
  },
  {
   "cell_type": "code",
   "execution_count": null,
   "metadata": {},
   "outputs": [],
   "source": [
    "def process_transcripts(input_csv, output_csv):\n",
    "    df = pd.read_csv(input_csv)\n",
    "    embeddings = []\n",
    "\n",
    "    for _, row in df.iterrows():\n",
    "        participant_id = row['Participant_ID']\n",
    "        transcript = row['Transcript']\n",
    "        \n",
    "        print(f\"Processing Participant {participant_id}...\")\n",
    "        embedding = get_bert_embedding(transcript)\n",
    "        \n",
    "        embeddings.append([participant_id] + embedding.tolist() + [row['label']])\n",
    "    \n",
    "    # Create column names (Participant_ID + 768 embedding dimensions + Label)\n",
    "    column_names = [\"Participant_ID\"] + [f\"BERT_{i}\" for i in range(768)] + [\"Label\"]\n",
    "\n",
    "    # Convert the embeddings list to a DataFrame with proper column names\n",
    "    df_embeddings = pd.DataFrame(embeddings, columns=column_names)\n",
    "    \n",
    "    df_embeddings.to_csv(output_csv, index=False)\n",
    "\n",
    "    print(f\"Embeddings saved to {output_csv}\")\n"
   ]
  },
  {
   "cell_type": "code",
   "execution_count": null,
   "metadata": {},
   "outputs": [
    {
     "name": "stdout",
     "output_type": "stream",
     "text": [
      "Processing Participant 301...\n"
     ]
    },
    {
     "name": "stdout",
     "output_type": "stream",
     "text": [
      "Processing Participant 302...\n",
      "Processing Participant 303...\n",
      "Processing Participant 304...\n",
      "Processing Participant 305...\n",
      "Processing Participant 306...\n",
      "Processing Participant 307...\n",
      "Processing Participant 308...\n",
      "Processing Participant 309...\n",
      "Processing Participant 310...\n",
      "Processing Participant 311...\n",
      "Processing Participant 312...\n",
      "Processing Participant 313...\n",
      "Processing Participant 314...\n",
      "Processing Participant 315...\n",
      "Processing Participant 316...\n",
      "Processing Participant 317...\n",
      "Processing Participant 318...\n",
      "Processing Participant 319...\n",
      "Processing Participant 320...\n",
      "Processing Participant 321...\n",
      "Processing Participant 322...\n",
      "Processing Participant 323...\n",
      "Processing Participant 326...\n",
      "Processing Participant 327...\n",
      "Processing Participant 328...\n",
      "Processing Participant 329...\n",
      "Processing Participant 330...\n",
      "Processing Participant 332...\n",
      "Processing Participant 344...\n",
      "Processing Participant 345...\n",
      "Processing Participant 346...\n",
      "Processing Participant 347...\n",
      "Processing Participant 348...\n",
      "Processing Participant 349...\n",
      "Processing Participant 350...\n",
      "Processing Participant 351...\n",
      "Processing Participant 352...\n",
      "Processing Participant 353...\n",
      "Processing Participant 354...\n",
      "Processing Participant 355...\n",
      "Processing Participant 356...\n",
      "Processing Participant 362...\n",
      "Processing Participant 367...\n",
      "Processing Participant 372...\n",
      "Embeddings saved to C:/Users/kakol/freelance/6/bert_embeddings.csv\n",
      "BERT feature extraction complete!\n"
     ]
    }
   ],
   "source": [
    "if __name__ == \"__main__\":\n",
    "    input_csv = \"./preprocessing/clean_compiled_transcripts.csv\"\n",
    "    output_csv = \"./preprocessing/bert_embeddings.csv\"\n",
    "    \n",
    "    process_transcripts(input_csv, output_csv)\n",
    "\n",
    "    print(\"BERT feature extraction complete!\")"
   ]
  },
  {
   "cell_type": "code",
   "execution_count": null,
   "metadata": {},
   "outputs": [
    {
     "name": "stdout",
     "output_type": "stream",
     "text": [
      "(45, 770)\n",
      "   Participant_ID    BERT_0    BERT_1    BERT_2    BERT_3    BERT_4    BERT_5  \\\n",
      "0             301  0.425751  0.180377  0.363085  0.185841 -0.474959 -0.095134   \n",
      "1             302  0.118533  0.064574  0.567143 -0.089609 -0.253438 -0.263409   \n",
      "2             303  0.225767  0.316440  0.457851  0.111106 -0.086383  0.046190   \n",
      "3             304  0.166075  0.171294  0.508915 -0.004415 -0.274525 -0.167221   \n",
      "4             305  0.094837  0.266901  0.376740  0.002199 -0.324778 -0.004376   \n",
      "\n",
      "     BERT_6    BERT_7    BERT_8  ...  BERT_759  BERT_760  BERT_761  BERT_762  \\\n",
      "0  0.012125  0.289598 -0.415915  ... -0.446853  0.089687  0.303306  0.379851   \n",
      "1  0.131825  0.441377 -0.099779  ... -0.672680 -0.186279  0.126947  0.535741   \n",
      "2  0.029571  0.212037 -0.356482  ... -0.521933 -0.232813  0.290403  0.430968   \n",
      "3 -0.044383  0.344965 -0.426138  ... -0.414651 -0.258255  0.268923  0.476743   \n",
      "4  0.119988  0.365760 -0.591842  ... -0.731170 -0.349641  0.155561  0.311118   \n",
      "\n",
      "   BERT_763  BERT_764  BERT_765  BERT_766  BERT_767  Label  \n",
      "0  0.293016 -0.289874 -0.219870 -0.012960 -0.022542      0  \n",
      "1 -0.041811 -0.657220 -0.410571  0.102864 -0.178786      0  \n",
      "2  0.103876 -0.302488 -0.404261  0.150345 -0.133011      0  \n",
      "3  0.155321 -0.309690 -0.209506  0.010398 -0.027590      0  \n",
      "4  0.114139 -0.228073 -0.290216  0.310051 -0.275572      0  \n",
      "\n",
      "[5 rows x 770 columns]\n"
     ]
    }
   ],
   "source": [
    "df = pd.read_csv(\"./preprocessing/bert_embeddings.csv\")\n",
    "print(df.shape)\n",
    "print(df.head())"
   ]
  },
  {
   "cell_type": "code",
   "execution_count": null,
   "metadata": {},
   "outputs": [],
   "source": []
  }
 ],
 "metadata": {
  "kernelspec": {
   "display_name": "my_env",
   "language": "python",
   "name": "python3"
  },
  "language_info": {
   "codemirror_mode": {
    "name": "ipython",
    "version": 3
   },
   "file_extension": ".py",
   "mimetype": "text/x-python",
   "name": "python",
   "nbconvert_exporter": "python",
   "pygments_lexer": "ipython3",
   "version": "3.11.9"
  }
 },
 "nbformat": 4,
 "nbformat_minor": 2
}
