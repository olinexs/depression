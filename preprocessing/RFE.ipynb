{
 "cells": [
  {
   "cell_type": "code",
   "execution_count": null,
   "metadata": {},
   "outputs": [],
   "source": [
    "import pandas as pd\n",
    "import numpy as np\n",
    "from sklearn.feature_selection import RFE\n",
    "from sklearn.ensemble import RandomForestClassifier\n",
    "from sklearn.preprocessing import StandardScaler\n",
    "\n",
    "audio_df = pd.read_csv(\"./preprocessing/audio_features.csv\")\n",
    "text_df = pd.read_csv(\"./preprocessing/bert_embeddings.csv\")\n"
   ]
  },
  {
   "cell_type": "code",
   "execution_count": null,
   "metadata": {},
   "outputs": [
    {
     "name": "stdout",
     "output_type": "stream",
     "text": [
      "   audio_name  audio_pcm_intensity_sma_max  audio_pcm_intensity_sma_min  \\\n",
      "0         NaN                     0.000017                 3.688526e-12   \n",
      "1         NaN                     0.000013                 7.147003e-12   \n",
      "2         NaN                     0.000013                 4.841324e-12   \n",
      "3         NaN                     0.000014                 9.565283e-12   \n",
      "4         NaN                     0.000476                 2.304610e-13   \n",
      "\n",
      "   audio_pcm_intensity_sma_range  audio_pcm_intensity_sma_maxPos  \\\n",
      "0                       0.000017                         16222.0   \n",
      "1                       0.000013                         72432.0   \n",
      "2                       0.000013                         93868.0   \n",
      "3                       0.000014                         32566.0   \n",
      "4                       0.000476                        137333.0   \n",
      "\n",
      "   audio_pcm_intensity_sma_minPos  audio_pcm_intensity_sma_amean  \\\n",
      "0                         45092.0                   1.485055e-07   \n",
      "1                         24251.0                   1.691865e-08   \n",
      "2                         17333.0                   8.942898e-08   \n",
      "3                         72740.0                   4.751388e-08   \n",
      "4                          3054.0                   3.645710e-06   \n",
      "\n",
      "   audio_pcm_intensity_sma_linregc1  audio_pcm_intensity_sma_linregc2  \\\n",
      "0                      8.571709e-13                      1.131969e-07   \n",
      "1                     -3.834176e-14                      1.837322e-08   \n",
      "2                     -2.290167e-14                      9.055717e-08   \n",
      "3                      2.029049e-13                      3.947337e-08   \n",
      "4                      1.877546e-12                      3.485748e-06   \n",
      "\n",
      "   audio_pcm_intensity_sma_linregerrA  ...  BERT_758  BERT_759  BERT_760  \\\n",
      "0                        2.124413e-07  ... -0.081172 -0.446853  0.089687   \n",
      "1                        2.256090e-08  ... -0.038004 -0.672680 -0.186279   \n",
      "2                        1.226868e-07  ... -0.080231 -0.521933 -0.232813   \n",
      "3                        6.868838e-08  ... -0.105033 -0.414651 -0.258255   \n",
      "4                        4.763433e-06  ... -0.030174 -0.731170 -0.349641   \n",
      "\n",
      "   BERT_761  BERT_762  BERT_763  BERT_764  BERT_765  BERT_766  BERT_767  \n",
      "0  0.303306  0.379851  0.293016 -0.289874 -0.219870 -0.012960 -0.022542  \n",
      "1  0.126947  0.535741 -0.041811 -0.657220 -0.410571  0.102864 -0.178786  \n",
      "2  0.290403  0.430968  0.103876 -0.302488 -0.404261  0.150345 -0.133011  \n",
      "3  0.268923  0.476743  0.155321 -0.309690 -0.209506  0.010398 -0.027590  \n",
      "4  0.155561  0.311118  0.114139 -0.228073 -0.290216  0.310051 -0.275572  \n",
      "\n",
      "[5 rows x 1760 columns]\n"
     ]
    }
   ],
   "source": [
    "merged_df = pd.merge(audio_df, text_df, on='Participant_ID')\n",
    "\n",
    "if 'Label_x' in merged_df.columns and 'Label_y' in merged_df.columns:\n",
    "    if not (merged_df['Label_x'] == merged_df['Label_y']).all():\n",
    "        print(\"Warning: Label mismatch between audio and text data!\")\n",
    "    \n",
    "    merged_df = merged_df.drop(columns=['Label_y'])\n",
    "    merged_df.rename(columns={'Label_x': 'Label'}, inplace=True)\n",
    "\n",
    "print(merged_df.head())\n"
   ]
  },
  {
   "cell_type": "code",
   "execution_count": null,
   "metadata": {},
   "outputs": [],
   "source": [
    "X_audio = merged_df.filter(like='audio_')\n",
    "X_text = merged_df.filter(like='BERT')\n",
    "y = merged_df['Label']\n"
   ]
  },
  {
   "cell_type": "code",
   "execution_count": 6,
   "metadata": {},
   "outputs": [
    {
     "name": "stdout",
     "output_type": "stream",
     "text": [
      "Running RFE on audio features...\n"
     ]
    }
   ],
   "source": [
    "# RFE for audio features\n",
    "print(\"Running RFE on audio features...\")\n",
    "audio_selector = RFE(estimator=RandomForestClassifier(), n_features_to_select=30)\n",
    "X_audio_selected = audio_selector.fit_transform(X_audio, y)\n",
    "audio_selected_columns = X_audio.columns[audio_selector.support_]\n"
   ]
  },
  {
   "cell_type": "code",
   "execution_count": null,
   "metadata": {},
   "outputs": [
    {
     "name": "stdout",
     "output_type": "stream",
     "text": [
      "Running RFE on text features...\n"
     ]
    }
   ],
   "source": [
    "# RFE for text features\n",
    "print(\"Running RFE on text features...\")\n",
    "text_selector = RFE(estimator=RandomForestClassifier(), n_features_to_select=20)\n",
    "X_text_selected = text_selector.fit_transform(X_text, y)\n",
    "text_selected_columns = X_text.columns[text_selector.support_]\n"
   ]
  },
  {
   "cell_type": "code",
   "execution_count": null,
   "metadata": {},
   "outputs": [],
   "source": [
    "X_combined_selected = np.concatenate([X_audio_selected, X_text_selected], axis=1)\n",
    "\n",
    "reduced_df = pd.DataFrame(X_combined_selected, columns=list(audio_selected_columns) + list(text_selected_columns))\n",
    "reduced_df['Label'] = y.values\n",
    "\n",
    "scaler = StandardScaler()\n",
    "reduced_df.iloc[:, :-1] = scaler.fit_transform(reduced_df.iloc[:, :-1])\n",
    "\n",
    "output_csv = \"./preprocessing/reduced_features.csv\"\n",
    "reduced_df.to_csv(output_csv, index=False)\n",
    "print(f\"Selected and normalized features saved to {output_csv}\")\n"
   ]
  }
 ],
 "metadata": {
  "kernelspec": {
   "display_name": "my_env",
   "language": "python",
   "name": "python3"
  },
  "language_info": {
   "codemirror_mode": {
    "name": "ipython",
    "version": 3
   },
   "file_extension": ".py",
   "mimetype": "text/x-python",
   "name": "python",
   "nbconvert_exporter": "python",
   "pygments_lexer": "ipython3",
   "version": "3.11.9"
  }
 },
 "nbformat": 4,
 "nbformat_minor": 2
}
